{
 "cells": [
  {
   "cell_type": "code",
   "execution_count": 3,
   "metadata": {},
   "outputs": [
    {
     "name": "stdout",
     "output_type": "stream",
     "text": [
      "Collecting openpyxl\n",
      "  Downloading openpyxl-3.1.2-py2.py3-none-any.whl.metadata (2.5 kB)\n",
      "Collecting et-xmlfile (from openpyxl)\n",
      "  Downloading et_xmlfile-1.1.0-py3-none-any.whl.metadata (1.8 kB)\n",
      "Downloading openpyxl-3.1.2-py2.py3-none-any.whl (249 kB)\n",
      "   ---------------------------------------- 0.0/250.0 kB ? eta -:--:--\n",
      "   - -------------------------------------- 10.2/250.0 kB ? eta -:--:--\n",
      "   ------------- -------------------------- 81.9/250.0 kB 1.1 MB/s eta 0:00:01\n",
      "   ---------------------------------------- 250.0/250.0 kB 2.6 MB/s eta 0:00:00\n",
      "Downloading et_xmlfile-1.1.0-py3-none-any.whl (4.7 kB)\n",
      "Installing collected packages: et-xmlfile, openpyxl\n",
      "Successfully installed et-xmlfile-1.1.0 openpyxl-3.1.2\n"
     ]
    }
   ],
   "source": [
    "#!pip install openpyxl"
   ]
  },
  {
   "cell_type": "code",
   "execution_count": 11,
   "metadata": {},
   "outputs": [],
   "source": [
    "import pytz \n",
    "from email.utils import parsedate_to_datetime"
   ]
  },
  {
   "cell_type": "code",
   "execution_count": 12,
   "metadata": {},
   "outputs": [
    {
     "data": {
      "text/plain": [
       "('OK', [b'17865'])"
      ]
     },
     "execution_count": 12,
     "metadata": {},
     "output_type": "execute_result"
    }
   ],
   "source": [
    "import imaplib\n",
    "import email\n",
    "from openpyxl import Workbook\n",
    "from datetime import datetime, timedelta\n",
    "\n",
    "from email_config import EMAIL, PASSWORD, IMAP_SERVER\n",
    "\n",
    "mail = imaplib.IMAP4_SSL(IMAP_SERVER)\n",
    "mail.login(EMAIL, PASSWORD)\n",
    "\n",
    "# Selecionar a caixa de entrada\n",
    "mail.select('inbox')"
   ]
  },
  {
   "cell_type": "code",
   "execution_count": 13,
   "metadata": {},
   "outputs": [
    {
     "name": "stdout",
     "output_type": "stream",
     "text": [
      "Expressão de filtro: (SINCE 30 days ago)\n"
     ]
    }
   ],
   "source": [
    "import imaplib\n",
    "import email\n",
    "from openpyxl import Workbook\n",
    "from datetime import datetime, timedelta\n",
    "import pytz\n",
    "from email.utils import parsedate_to_datetime\n",
    "from email.header import decode_header\n",
    "\n",
    "# Função para decodificar o header do e-mail\n",
    "def decode_email_header(header):\n",
    "    decoded_header = decode_header(header)\n",
    "    decoded_string = \"\"\n",
    "    for part, encoding in decoded_header:\n",
    "        if isinstance(part, bytes):\n",
    "            if encoding:\n",
    "                decoded_string += part.decode(encoding)\n",
    "            else:\n",
    "                decoded_string += part.decode()\n",
    "        else:\n",
    "            decoded_string += part\n",
    "    return decoded_string\n",
    "\n",
    "mail = imaplib.IMAP4_SSL(IMAP_SERVER)\n",
    "mail.login(EMAIL, PASSWORD)\n",
    "\n",
    "# Selecionar a caixa de entrada\n",
    "mail.select('inbox')\n",
    "\n",
    "# Imprimir a expressão de filtro usada\n",
    "print(\"Expressão de filtro: (SINCE 30 days ago)\")\n",
    "\n",
    "# Buscar pelos últimos 5 e-mails recebidos\n",
    "# result, data = mail.search(None, 'ALL')\n",
    "\n",
    "date_week_ago = (datetime.now() - timedelta(days=7)).strftime('%d-%b-%Y')\n",
    "\n",
    "# Criar o critério de busca para emails desde uma semana atrás\n",
    "typ, data = mail.search(None, '(SINCE \"{}\")'.format(date_week_ago))\n",
    "\n",
    "email_ids = data[0].split()[-5:]  # Pegar os 5 últimos e-mails\n",
    "\n",
    "# Criar uma nova planilha Excel\n",
    "wb = Workbook()\n",
    "ws = wb.active\n",
    "\n",
    "# Adicionar cabeçalhos à planilha\n",
    "ws.append([\"Remetente\", \"Assunto\", \"Data\", \"ID\", \"Respondido\"])\n",
    "\n",
    "# Função para verificar se o email foi respondido\n",
    "def check_if_replied(msg_id):\n",
    "    result, data = mail.fetch(msg_id, \"(FLAGS)\")\n",
    "    flags = data[0].decode('utf-8')\n",
    "    if \"\\\\Answered\" in flags:\n",
    "        return \"Sim\"\n",
    "    else:\n",
    "        return \"Não\"\n",
    "\n",
    "## Iterar sobre os últimos 5 e-mails recebidos\n",
    "for num in email_ids:\n",
    "    result, data = mail.fetch(num, '(RFC822)')\n",
    "    raw_email = data[0][1]\n",
    "    msg = email.message_from_bytes(raw_email)\n",
    "\n",
    "    # Remetente\n",
    "    sender = decode_email_header(msg['From'])\n",
    "    # Assunto\n",
    "    subject = decode_email_header(msg['Subject'])\n",
    "    # Data\n",
    "    raw_date = msg['Date']\n",
    "    # Parse da data usando email.utils.parsedate_to_datetime\n",
    "    date_obj = parsedate_to_datetime(raw_date)\n",
    "    # Converter para o fuso horário desejado (GMT)\n",
    "    date_obj = date_obj.astimezone(pytz.timezone('GMT'))\n",
    "    # Converter para string no formato desejado\n",
    "    date_str = date_obj.strftime('%Y-%m-%d %H:%M:%S')\n",
    "    # ID\n",
    "    msg_id = num.decode('utf-8')\n",
    "    # Verificar se o email foi respondido\n",
    "    replied = check_if_replied(msg_id)\n",
    "\n",
    "    # Adicionar os detalhes na planilha\n",
    "    ws.append([sender, subject, date_str, msg_id, replied])\n",
    "\n",
    "# Salvar a planilha\n",
    "wb.save(\"ultimos_5_emails_recebidos.xlsx\")"
   ]
  },
  {
   "cell_type": "code",
   "execution_count": 5,
   "metadata": {},
   "outputs": [
    {
     "data": {
      "text/plain": [
       "[b'17861', b'17862', b'17863', b'17864', b'17865']"
      ]
     },
     "execution_count": 5,
     "metadata": {},
     "output_type": "execute_result"
    }
   ],
   "source": [
    "email_ids"
   ]
  },
  {
   "cell_type": "code",
   "execution_count": 6,
   "metadata": {},
   "outputs": [],
   "source": [
    "response_dict = {\n",
    "    'colação_de_grau': ['colacao', 'formatura', 'conclusao de curso'],\n",
    "    'emissao_diploma': ['diploma'],\n",
    "    'historico': ['historico', 'historico oficial'],\n",
    "}"
   ]
  },
  {
   "cell_type": "code",
   "execution_count": 9,
   "metadata": {},
   "outputs": [],
   "source": [
    "def check_mail_sub(mail_sub,response_dict):\n",
    "    for word in mail_sub.split(' '):\n",
    "        for key , values in zip(response_dict.keys(),response_dict.values()):\n",
    "            if word in values:\n",
    "                return key\n",
    "    raise NotImplementedError\n",
    "\n",
    "    \n"
   ]
  },
  {
   "cell_type": "code",
   "execution_count": 10,
   "metadata": {},
   "outputs": [
    {
     "data": {
      "text/plain": [
       "'colação_de_grau'"
      ]
     },
     "execution_count": 10,
     "metadata": {},
     "output_type": "execute_result"
    }
   ],
   "source": [
    "check_mail_sub('documentos colacao',response_dict)"
   ]
  },
  {
   "cell_type": "code",
   "execution_count": 1,
   "metadata": {},
   "outputs": [],
   "source": [
    "x = \"\"\"[0.57735027 0.57735027 0.57735027 0.         0.         0.\n",
    " 0.         0.         0.         0.         0.         0.\n",
    " 0.         0.         0.         0.         0.         0.\n",
    " 0.         0.         0.         0.         0.         0.\n",
    " 0.         0.         0.         0.         0.         0.\n",
    " 0.         0.         0.         0.         0.         0.\n",
    " 0.         0.         0.         0.         0.         0.\n",
    " 0.         0.         0.         0.         0.         0.\n",
    " 0.         0.         0.         0.         0.         0.\n",
    " 0.         0.         0.         0.         0.         0.\n",
    " 0.         0.         0.         0.         0.         0.\n",
    " 0.         0.         0.         0.         0.         0.\n",
    " 0.         0.         0.         0.         0.         0.\n",
    " 0.         0.         0.         0.         0.         0.\n",
    " 0.         0.         0.         0.         0.         0.\n",
    " 0.         0.         0.        ]\"\"\""
   ]
  },
  {
   "cell_type": "code",
   "execution_count": 2,
   "metadata": {},
   "outputs": [
    {
     "data": {
      "text/plain": [
       "'[0.57735027 0.57735027 0.57735027 0.         0.         0.\\n 0.         0.         0.         0.         0.         0.\\n 0.         0.         0.         0.         0.         0.\\n 0.         0.         0.         0.         0.         0.\\n 0.         0.         0.         0.         0.         0.\\n 0.         0.         0.         0.         0.         0.\\n 0.         0.         0.         0.         0.         0.\\n 0.         0.         0.         0.         0.         0.\\n 0.         0.         0.         0.         0.         0.\\n 0.         0.         0.         0.         0.         0.\\n 0.         0.         0.         0.         0.         0.\\n 0.         0.         0.         0.         0.         0.\\n 0.         0.         0.         0.         0.         0.\\n 0.         0.         0.         0.         0.         0.\\n 0.         0.         0.         0.         0.         0.\\n 0.         0.         0.        ]'"
      ]
     },
     "execution_count": 2,
     "metadata": {},
     "output_type": "execute_result"
    }
   ],
   "source": [
    "x"
   ]
  },
  {
   "cell_type": "code",
   "execution_count": null,
   "metadata": {},
   "outputs": [],
   "source": []
  }
 ],
 "metadata": {
  "kernelspec": {
   "display_name": "Python 3",
   "language": "python",
   "name": "python3"
  },
  "language_info": {
   "codemirror_mode": {
    "name": "ipython",
    "version": 3
   },
   "file_extension": ".py",
   "mimetype": "text/x-python",
   "name": "python",
   "nbconvert_exporter": "python",
   "pygments_lexer": "ipython3",
   "version": "3.11.9"
  }
 },
 "nbformat": 4,
 "nbformat_minor": 2
}
